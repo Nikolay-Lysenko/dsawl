{
 "cells": [
  {
   "cell_type": "markdown",
   "metadata": {},
   "source": [
    "# Introduction"
   ]
  },
  {
   "cell_type": "markdown",
   "metadata": {},
   "source": [
    "### Brief Overview"
   ]
  },
  {
   "cell_type": "markdown",
   "metadata": {},
   "source": [
    "Coming soon."
   ]
  },
  {
   "cell_type": "markdown",
   "metadata": {},
   "source": [
    "### References"
   ]
  },
  {
   "cell_type": "markdown",
   "metadata": {},
   "source": [
    "* An article that contains review of approaches to active learning: [Yang, 2017](https://arxiv.org/pdf/1702.08540.pdf);\n",
    "* An article about EG-Active algorithm: [Bouneffouf, 2014](https://arxiv.org/abs/1408.2196)."
   ]
  },
  {
   "cell_type": "markdown",
   "metadata": {},
   "source": [
    "# General Preparations"
   ]
  },
  {
   "cell_type": "markdown",
   "metadata": {},
   "source": [
    "### Import Statements"
   ]
  },
  {
   "cell_type": "code",
   "execution_count": 1,
   "metadata": {},
   "outputs": [],
   "source": [
    "import math\n",
    "from copy import copy\n",
    "\n",
    "import numpy as np\n",
    "\n",
    "import matplotlib.pyplot as plt\n",
    "%matplotlib inline\n",
    "import seaborn as sns\n",
    "\n",
    "from sklearn.base import BaseEstimator\n",
    "from sklearn.metrics import accuracy_score\n",
    "from sklearn.ensemble import RandomForestClassifier\n",
    "\n",
    "from dsawl.active_learning.pool_based_sampling import EpsilonGreedyPickerFromPool"
   ]
  },
  {
   "cell_type": "markdown",
   "metadata": {},
   "source": [
    "### Notebook-level Settings"
   ]
  },
  {
   "cell_type": "code",
   "execution_count": 2,
   "metadata": {
    "collapsed": true
   },
   "outputs": [],
   "source": [
    "np.random.seed(361)"
   ]
  },
  {
   "cell_type": "code",
   "execution_count": 3,
   "metadata": {
    "collapsed": true
   },
   "outputs": [],
   "source": [
    "sns.set()"
   ]
  },
  {
   "cell_type": "markdown",
   "metadata": {},
   "source": [
    "### User-defined Settings"
   ]
  },
  {
   "cell_type": "code",
   "execution_count": 4,
   "metadata": {
    "collapsed": true
   },
   "outputs": [],
   "source": [
    "# It is not a good practice to store binary files\n",
    "# (like PNG images) in a Git repository, but for\n",
    "# your local use you can set it to `True`.\n",
    "draw_plots = False"
   ]
  },
  {
   "cell_type": "markdown",
   "metadata": {},
   "source": [
    "# Dataset Generation"
   ]
  },
  {
   "cell_type": "code",
   "execution_count": 5,
   "metadata": {
    "collapsed": true
   },
   "outputs": [],
   "source": [
    "dimensionality = 2\n",
    "lower_bound = -2\n",
    "upper_bound = 2\n",
    "pool_size = 300"
   ]
  },
  {
   "cell_type": "code",
   "execution_count": 6,
   "metadata": {
    "collapsed": true
   },
   "outputs": [],
   "source": [
    "X_train_initial = np.array(\n",
    "    [[1, -1],\n",
    "     [2, -2],\n",
    "     [3, -3],\n",
    "     [-1, -1],\n",
    "     [-2, -2],\n",
    "     [-3, -3],\n",
    "     [0, 1],\n",
    "     [0, 2],\n",
    "     [0, 3]]\n",
    ")"
   ]
  },
  {
   "cell_type": "code",
   "execution_count": 7,
   "metadata": {},
   "outputs": [],
   "source": [
    "X_new = np.random.uniform(\n",
    "    lower_bound, upper_bound, size=(pool_size, dimensionality)\n",
    ")"
   ]
  },
  {
   "cell_type": "code",
   "execution_count": 8,
   "metadata": {
    "collapsed": true
   },
   "outputs": [],
   "source": [
    "X_hold_out = np.random.uniform(\n",
    "    lower_bound, upper_bound, size=(pool_size, dimensionality)\n",
    ")"
   ]
  },
  {
   "cell_type": "code",
   "execution_count": 9,
   "metadata": {},
   "outputs": [],
   "source": [
    "def compute_target(X: np.ndarray) -> np.ndarray:\n",
    "    \"\"\"\n",
    "    Compute class label for a simple classification problem where\n",
    "    2D plane is split into three regions by rays such that they\n",
    "    start from the origin and an angle between any pair of them\n",
    "    has 120 degrees.\n",
    "    \n",
    "    :param X:\n",
    "        coordinates of points from the plane\n",
    "    :return:\n",
    "        labels of regions where points are located\n",
    "    \"\"\"\n",
    "    \n",
    "    def compute_target_for_row(x: np.ndarray) -> int:\n",
    "        if x[0] > 0:\n",
    "            return 1 if x[1] - math.tan(math.radians(30)) * x[0] > 0 else 2\n",
    "        else:\n",
    "            return 1 if x[1] + math.tan(math.radians(30)) * x[0] > 0 else 3\n",
    "        \n",
    "    y = np.apply_along_axis(compute_target_for_row, axis=1, arr=X)\n",
    "    return y"
   ]
  },
  {
   "cell_type": "code",
   "execution_count": 10,
   "metadata": {
    "collapsed": true
   },
   "outputs": [],
   "source": [
    "y_train_initial = compute_target(X_train_initial)\n",
    "y_new = compute_target(X_new)\n",
    "y_hold_out = compute_target(X_hold_out)"
   ]
  },
  {
   "cell_type": "code",
   "execution_count": 11,
   "metadata": {},
   "outputs": [],
   "source": [
    "if draw_plots:\n",
    "    fig = plt.figure(figsize=(15, 15))\n",
    "    ax = fig.add_subplot(111)\n",
    "    for label, color in zip(range(1, 4), ['b', 'r', 'g']):\n",
    "        curr_X = X_train_initial[y_train_initial == label, :]\n",
    "        ax.scatter(curr_X[:, 0], curr_X[:, 1], c=color, marker='D')\n",
    "    for label, color in zip(range(1, 4), ['b', 'r', 'g']):\n",
    "        curr_X = X_new[y_new == label, :]\n",
    "        ax.scatter(curr_X[:, 0], curr_X[:, 1], c=color)"
   ]
  },
  {
   "cell_type": "markdown",
   "metadata": {},
   "source": [
    "# Illustrative Example"
   ]
  },
  {
   "cell_type": "code",
   "execution_count": 12,
   "metadata": {
    "collapsed": true
   },
   "outputs": [],
   "source": [
    "clf = RandomForestClassifier(n_estimators=20, random_state=361)"
   ]
  },
  {
   "cell_type": "code",
   "execution_count": 13,
   "metadata": {
    "collapsed": true
   },
   "outputs": [],
   "source": [
    "max_n_points_to_explore = 100"
   ]
  },
  {
   "cell_type": "code",
   "execution_count": 14,
   "metadata": {
    "collapsed": true
   },
   "outputs": [],
   "source": [
    "epsilon = 0.1\n",
    "scorer = 'margin'"
   ]
  },
  {
   "cell_type": "code",
   "execution_count": 15,
   "metadata": {
    "collapsed": true
   },
   "outputs": [],
   "source": [
    "def report_accuracy_of_benchmark(\n",
    "        n_new_points: int,\n",
    "        clf: BaseEstimator,\n",
    "        X_train_initial: np.ndarray, y_train_inital: np.ndarray,\n",
    "        X_new: np.ndarray, y_new: np.ndarray,\n",
    "        X_hold_out: np.ndarray, y_hold_out: np.ndarray\n",
    "        ) -> float:\n",
    "    \"\"\"\n",
    "    Compute accuracy of approach where `n_new_points` objects\n",
    "    are picked from a pool at random, without active learning.\n",
    "    \"\"\"\n",
    "    X_train = np.vstack((X_train_initial, X_new[:n_new_points, :]))\n",
    "    y_train = np.hstack((y_train_initial, y_new[:n_new_points]))\n",
    "    clf.fit(X_train, y_train)\n",
    "    y_hold_out_hat = clf.predict(X_hold_out)\n",
    "    return accuracy_score(y_hold_out, y_hold_out_hat)"
   ]
  },
  {
   "cell_type": "code",
   "execution_count": 16,
   "metadata": {
    "collapsed": true
   },
   "outputs": [],
   "source": [
    "def report_accuracy_of_epsilon_greedy_strategy(\n",
    "        n_new_points: int,\n",
    "        clf: BaseEstimator,\n",
    "        epsilon: float,\n",
    "        scorer: str,\n",
    "        X_train_initial: np.ndarray, y_train_inital: np.ndarray,\n",
    "        X_new: np.ndarray, y_new: np.ndarray,\n",
    "        X_hold_out: np.ndarray, y_hold_out: np.ndarray\n",
    "        ) -> float:\n",
    "    \"\"\"\n",
    "    Compute accuracy of epsilon-greedy approach to active\n",
    "    learning.\n",
    "    \"\"\"\n",
    "    X_train = copy(X_train_initial)\n",
    "    y_train = copy(y_train_inital)\n",
    "    clf.fit(X_train, y_train)\n",
    "    picker = EpsilonGreedyPickerFromPool(\n",
    "        scorer, exploration_probability=epsilon\n",
    "    )\n",
    "    picker.set_tools(clf)\n",
    "    for i in range(n_new_points):\n",
    "        indices = picker.pick_new_objects(X_new, n_to_pick=1)\n",
    "        X_train = np.vstack((X_train, X_new[indices, :]))\n",
    "        y_train = np.hstack((y_train, y_new[indices]))\n",
    "        picker.update_tools(X_train, y_train)\n",
    "        X_new = np.delete(X_new, indices, axis=0)\n",
    "        y_new = np.delete(y_new, indices)\n",
    "    clf = picker.get_tools()\n",
    "    y_hold_out_hat = clf.predict(X_hold_out)\n",
    "    return accuracy_score(y_hold_out, y_hold_out_hat)"
   ]
  },
  {
   "cell_type": "code",
   "execution_count": 17,
   "metadata": {},
   "outputs": [
    {
     "data": {
      "text/plain": [
       "93.703333333333276"
      ]
     },
     "execution_count": 17,
     "metadata": {},
     "output_type": "execute_result"
    }
   ],
   "source": [
    "benchmark_scores = [\n",
    "    report_accuracy_of_benchmark(\n",
    "        n, clf,\n",
    "        X_train_initial, y_train_initial, X_new, y_new,\n",
    "        X_hold_out, y_hold_out\n",
    "    )\n",
    "    for n in range(1, max_n_points_to_explore + 1)\n",
    "]\n",
    "sum(benchmark_scores)"
   ]
  },
  {
   "cell_type": "code",
   "execution_count": 18,
   "metadata": {},
   "outputs": [
    {
     "data": {
      "text/plain": [
       "96.406666666666737"
      ]
     },
     "execution_count": 18,
     "metadata": {},
     "output_type": "execute_result"
    }
   ],
   "source": [
    "epsilon_greedy_scores = [\n",
    "    report_accuracy_of_epsilon_greedy_strategy(\n",
    "        n, clf, epsilon, scorer,\n",
    "        X_train_initial, y_train_initial, X_new, y_new,\n",
    "        X_hold_out, y_hold_out\n",
    "    )\n",
    "    for n in range(1, max_n_points_to_explore + 1)\n",
    "]\n",
    "sum(epsilon_greedy_scores)"
   ]
  },
  {
   "cell_type": "code",
   "execution_count": 19,
   "metadata": {},
   "outputs": [],
   "source": [
    "if draw_plots:\n",
    "    fig = plt.figure(figsize=(15, 15))\n",
    "    ax = fig.add_subplot(111)\n",
    "    ax.plot(benchmark_scores)\n",
    "    ax.plot(epsilon_greedy_scores, c='g')"
   ]
  },
  {
   "cell_type": "markdown",
   "metadata": {},
   "source": [
    "# Conclusion"
   ]
  },
  {
   "cell_type": "markdown",
   "metadata": {},
   "source": [
    "Coming soon.\n",
    "\n",
    "And examples will be continued."
   ]
  }
 ],
 "metadata": {
  "kernelspec": {
   "display_name": "dsawl_env",
   "language": "python",
   "name": "dsawl_env"
  },
  "language_info": {
   "codemirror_mode": {
    "name": "ipython",
    "version": 3
   },
   "file_extension": ".py",
   "mimetype": "text/x-python",
   "name": "python",
   "nbconvert_exporter": "python",
   "pygments_lexer": "ipython3",
   "version": "3.6.3"
  }
 },
 "nbformat": 4,
 "nbformat_minor": 2
}
